{
 "cells": [
  {
   "cell_type": "markdown",
   "metadata": {},
   "source": [
    "# Export API Documentation by \n",
    "## 1. Restart kernel (if source scripts have been changed)\n",
    "## 2. Run the two cells below \n",
    "### TIP: just press \"Kernel/Restart & Run all\" above and respond when asked for input\n",
    "----"
   ]
  },
  {
   "cell_type": "markdown",
   "metadata": {},
   "source": [
    "## Start by merging all .py-script to one .py-script"
   ]
  },
  {
   "cell_type": "markdown",
   "metadata": {},
   "source": [
    "### Update .py-scripts from .ipynb-scripts"
   ]
  },
  {
   "cell_type": "code",
   "execution_count": 3,
   "metadata": {},
   "outputs": [
    {
     "name": "stdout",
     "output_type": "stream",
     "text": [
      "Functions imported.\n"
     ]
    }
   ],
   "source": [
    "# Import packages\n",
    "while True:\n",
    "    updates = input('Have you changed any of the scripts? [y/n]: ')\n",
    "    if updates == 'y':\n",
    "        restart = input('Have you restarted the kernel in this instance? [y/n]: ')\n",
    "        if restart == 'y':\n",
    "            break\n",
    "        elif restart == 'n':\n",
    "            print('Restart the kernel first! (Press \"Kernel\" > \"Restart & Clear Output\")')\n",
    "        else:\n",
    "            print('Try again. You need to write either \"y\" (yes) or \"n\" (no).')\n",
    "    elif updates == 'n':\n",
    "        print('Alright! Then we just import all functions.')\n",
    "        break\n",
    "    else:\n",
    "        print('You need to write either \"y\" (yes) or \"n\" (no).')\n",
    "    \n",
    "print('Importing...')\n",
    "## ------------------------- FILES TO IMPORT HERE --------------------------------------------    \n",
    "from ImportPackages import *\n",
    "from AuxiliaryFunctions import *\n",
    "from Lightcurve import *\n",
    "from Powerspectrum import *\n",
    "from Coherence import *\n",
    "from TimeLag import *\n",
    "from RmsCovariance import *\n",
    "## ------------------------- and then convert these to HTML files for API-docs ---------------\n",
    "clear_output(True)\n",
    "\n",
    "print('Functions imported.')"
   ]
  },
  {
   "cell_type": "markdown",
   "metadata": {},
   "source": [
    "### Create HTML from the updated .py-scripts"
   ]
  },
  {
   "cell_type": "code",
   "execution_count": 8,
   "metadata": {
    "scrolled": false
   },
   "outputs": [
    {
     "name": "stdout",
     "output_type": "stream",
     "text": [
      "/Users/ludo/Documents/MagnusAxelsson_project/Spectral-Timing-Analysis/src/star/Lightcurve.py:249: DeprecationWarning: invalid escape sequence \\g\n",
      "  print('N_\\gamma = total counts = ',N_gamma)\n",
      "/Users/ludo/Documents/MagnusAxelsson_project/Spectral-Timing-Analysis/src/star/Lightcurve.py:314: DeprecationWarning: invalid escape sequence \\D\n",
      "  Emin_candidates = re.split('\\D+[.]*\\D+',split_at_to[0][-6:]) #\\D = non-digits, so this splits at letters\n",
      "/Users/ludo/Documents/MagnusAxelsson_project/Spectral-Timing-Analysis/src/star/Lightcurve.py:357: DeprecationWarning: invalid escape sequence \\m\n",
      "  print('NOTE: The rms cannot be computed since signal-to-noise ratio is too low; the expectation value of the Poisson variance term is larger than the \\measured average variance term, producing negative average excess variances.\\n')\n",
      "/Users/ludo/Documents/MagnusAxelsson_project/Spectral-Timing-Analysis/src/star/Coherence.py:355: DeprecationWarning: invalid escape sequence \\s\n",
      "  \"\"\"\n",
      "html/star/index.html\n",
      "html/star/AuxiliaryFunctions.html\n",
      "html/star/Coherence.html\n",
      "html/star/Lightcurve.html\n",
      "html/star/Powerspectrum.html\n",
      "html/star/RmsCovariance.html\n",
      "html/star/TimeLag.html\n"
     ]
    }
   ],
   "source": [
    "def add_to_API_script(s):\n",
    "    \"\"\"\n",
    "    pdoc cannot currently import modules, so we need to disregard \n",
    "    all lines until the first \"def\" or \"class\" in the scripts.\n",
    "    \n",
    "    Parameters:\n",
    "    ----------\n",
    "    s: filename\n",
    "    \"\"\"\n",
    "    \n",
    "    with open(s) as f:\n",
    "        lines = f.readlines()\n",
    "        for i in range(0,len(lines)):\n",
    "            if \"def\" in lines[i]:\n",
    "                index = i\n",
    "                break\n",
    "            if \"class\" in lines[i]:\n",
    "                index = i\n",
    "                break\n",
    "\n",
    "    with open (\"star/{}\".format(s), \"w\") as f:\n",
    "        f.write(\"\".join(lines[index:]))\n",
    "\n",
    "#----------------------------------------------------------------------------------------------------------------\n",
    "\n",
    "# What scripts to be turned into HTML documentation\n",
    "scripts = ['AuxiliaryFunctions.py','Lightcurve.py','Powerspectrum.py',\\\n",
    "           'Coherence.py','TimeLag.py','RmsCovariance.py']\n",
    "\n",
    "#----------------------------------------------------------------------------------------------------------------\n",
    "\n",
    "# Create a temporary folder (will be removed, see below) for the API-Documentation\n",
    "!mkdir star\n",
    "\n",
    "#----------------------------------------------------------------------------------------------------------------\n",
    "\n",
    "# Add scripts by first removing the \"import\"-statements in the scripts\n",
    "for s in scripts:\n",
    "    add_to_API_script(s)\n",
    "    \n",
    "#----------------------------------------------------------------------------------------------------------------\n",
    "    \n",
    "# Then use pdoc-module to create .html-script\n",
    "!pdoc --html --force --config latex_math=True \"star\" #works on the repository doc/API\n",
    "!rm -rf ../doc/API/star\n",
    "!mv html/star ../doc/API\n",
    "!rm -rf html \n",
    "!rm -rf star # remove the temporary folder\n",
    "\n",
    "#----------------------------------------------------------------------------------------------------------------\n",
    "\n",
    "# Update Title of API Doc\n",
    "date = dati.today().strftime('%Y-%m-%d')\n",
    "ans = \"Namespace\"\n",
    "lines = []\n",
    "## open file\n",
    "with open(r\"../doc/API/star/index.html\", mode='r') as f:\n",
    "    for line in f.readlines(): # iterate thru the lines\n",
    "        if ans in line: # check if is in ans in line\n",
    "            line = ans.replace(ans, \"<h1 class='title'><b>Spectral Timing Analysis Repo (STAR) Package</b></h1> <h2><b>API Documentation</b></h2> <h3> Written by Ludvig Doeser, updated {} </h3>\".format(date)) # replace the line containing the and with the new line, you can change to what you want. \n",
    "        lines.append(line)\n",
    "## write to a new file\n",
    "with open(r\"../doc/API/star/index.html\", mode='w') as new_f:\n",
    "    new_f.writelines(lines)\n",
    "    "
   ]
  }
 ],
 "metadata": {
  "kernelspec": {
   "display_name": "Python 3",
   "language": "python",
   "name": "python3"
  },
  "language_info": {
   "codemirror_mode": {
    "name": "ipython",
    "version": 3
   },
   "file_extension": ".py",
   "mimetype": "text/x-python",
   "name": "python",
   "nbconvert_exporter": "python",
   "pygments_lexer": "ipython3",
   "version": "3.8.5"
  }
 },
 "nbformat": 4,
 "nbformat_minor": 4
}
