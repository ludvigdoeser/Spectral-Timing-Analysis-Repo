{
 "cells": [
  {
   "cell_type": "markdown",
   "id": "47dd82b7",
   "metadata": {},
   "source": [
    "## If channels are known, but not the energies: Need to convert"
   ]
  },
  {
   "cell_type": "code",
   "execution_count": 1,
   "id": "a5ed8ac3",
   "metadata": {},
   "outputs": [],
   "source": [
    "from star import *"
   ]
  },
  {
   "cell_type": "code",
   "execution_count": 22,
   "id": "d868dee2",
   "metadata": {},
   "outputs": [
    {
     "name": "stdout",
     "output_type": "stream",
     "text": [
      "-----------------------------------------------------------------------------------------------------------\n",
      "               Importing lightcurve from f = Data/CygX1/ChannelsKnown/102410101000_000-010_src_withenergy.lc\n",
      "-----------------------------------------------------------------------------------------------------------\n",
      "Loading fits from filename:  Data/CygX1/ChannelsKnown/102410101000_000-010_src_withenergy.lc\n",
      "There is no key MINCHAN in header0, let's have a look at header1.\n",
      "Found key MINCHAN in header1.\n",
      "There is no key MAXCHAN in header0, let's have a look at header1.\n",
      "Found key MAXCHAN in header1.\n",
      "The keys to the LIGHT CURVE data are: dict_keys(['TIME', 'RATE', 'ERROR', 'FRACEXP', 'CONTENT', 'OBJECT', 'MINCHAN', 'MAXCHAN'])\n",
      "Loading fits done. \n",
      "\n",
      "Light curve object for CYGNUSX-1 in Eband = 0.0-10.0 keV created.\n",
      "With parameters: N = 961750, dt = 0.016, R = 794.2, and Fvar = 0.2882.\n",
      "-----------------------------------------------------------------------------------------------------------\n",
      "\n",
      "Updating Energies...\n",
      "Energy channels (keV):  1 - 10 ( 0 - 4.05 )\n",
      "Emin = 0, Emax = 4.05\n"
     ]
    }
   ],
   "source": [
    "# Loading file:\n",
    "f = 'Data/CygX1/ChannelsKnown/102410101000_000-010.lc' # obs_id: 102410101000, channels: 000-010 \n",
    "\n",
    "# Create light curve object:\n",
    "lc = lightcurve(f,keywords=['MINCHAN','MAXCHAN'],p=0)\n",
    "\n",
    "# Need to correct energies; the filename contains the channels... \n",
    "channel_to_kev = np.load('RXTE_channels_to_energy/RXTE_Epoch3.npy')\n",
    "print('Updating Energies...')\n",
    "lc.channel_to_energy_XTE(channel_to_kev)\n",
    "print('Emin = {}, Emax = {}'.format(lc.Emin,lc.Emax))"
   ]
  }
 ],
 "metadata": {
  "kernelspec": {
   "display_name": "Python 3",
   "language": "python",
   "name": "python3"
  },
  "language_info": {
   "codemirror_mode": {
    "name": "ipython",
    "version": 3
   },
   "file_extension": ".py",
   "mimetype": "text/x-python",
   "name": "python",
   "nbconvert_exporter": "python",
   "pygments_lexer": "ipython3",
   "version": "3.8.5"
  }
 },
 "nbformat": 4,
 "nbformat_minor": 5
}
